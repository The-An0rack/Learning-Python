{
  "nbformat": 4,
  "nbformat_minor": 0,
  "metadata": {
    "colab": {
      "provenance": [],
      "authorship_tag": "ABX9TyNm/MfHGxMMgOQWlZ+7tD2i",
      "include_colab_link": true
    },
    "kernelspec": {
      "name": "python3",
      "display_name": "Python 3"
    },
    "language_info": {
      "name": "python"
    }
  },
  "cells": [
    {
      "cell_type": "markdown",
      "metadata": {
        "id": "view-in-github",
        "colab_type": "text"
      },
      "source": [
        "<a href=\"https://colab.research.google.com/github/The-An0rack/Learning-Python/blob/main/Day004.ipynb\" target=\"_parent\"><img src=\"https://colab.research.google.com/assets/colab-badge.svg\" alt=\"Open In Colab\"/></a>"
      ]
    },
    {
      "cell_type": "markdown",
      "source": [
        "#**Day 4: Randomisation and Lists in Python**"
      ],
      "metadata": {
        "id": "YeS7MKgyL4Hw"
      }
    },
    {
      "cell_type": "code",
      "execution_count": 1,
      "metadata": {
        "colab": {
          "base_uri": "https://localhost:8080/"
        },
        "id": "0-mXTQzEL3Xe",
        "outputId": "ddd90760-0639-4d41-fc6b-26e6cf2739d5"
      },
      "outputs": [
        {
          "output_type": "stream",
          "name": "stdout",
          "text": [
            "4\n"
          ]
        }
      ],
      "source": [
        "import random\n",
        "\n",
        "#returns a random integer between the numbers (inclusive)\n",
        "random_integer = random.randint(1, 10)\n",
        "print(random_integer)"
      ]
    },
    {
      "cell_type": "markdown",
      "source": [
        "###**Understanding Modules in Python**\n",
        "\n",
        "*Let the below code be in file `my_module.py`*"
      ],
      "metadata": {
        "id": "1w5qBjrfNtyt"
      }
    },
    {
      "cell_type": "code",
      "source": [
        "pi = 3.131"
      ],
      "metadata": {
        "id": "jj4zk1DnN6It"
      },
      "execution_count": null,
      "outputs": []
    },
    {
      "cell_type": "markdown",
      "source": [
        "*Let the below code be in file `main.py`*"
      ],
      "metadata": {
        "id": "5c3ZPtz8N77P"
      }
    },
    {
      "cell_type": "code",
      "source": [
        "import my_module\n",
        "\n",
        "print(my_module.pi)"
      ],
      "metadata": {
        "id": "EgKooGaCOBVJ"
      },
      "execution_count": null,
      "outputs": []
    },
    {
      "cell_type": "code",
      "source": [
        "# Returns a random floating point number between 0.0 and 0.999999...\n",
        "\n",
        "print(random.random())"
      ],
      "metadata": {
        "colab": {
          "base_uri": "https://localhost:8080/"
        },
        "id": "bd3pHX_jOWdx",
        "outputId": "a4aceb13-3d76-4fe1-a9ca-a101e92117ad"
      },
      "execution_count": 2,
      "outputs": [
        {
          "output_type": "stream",
          "name": "stdout",
          "text": [
            "0.08204420255543377\n"
          ]
        }
      ]
    },
    {
      "cell_type": "markdown",
      "source": [
        "###**Lists in Python**\n",
        "In Python, lists is a linear collection of hetrogeneous type of data, ie. it can contain data of different data types.\n",
        "\n",
        "* Lists are ordered, i.e. The items remain in the order in which they are entered\n",
        "\n",
        "* Index of a list is range [0 ... n - 1], where n is the length of the list.\n",
        "\n",
        "* We can also use negative index, and it starts counting from the end of the list"
      ],
      "metadata": {
        "id": "klmUKU_zORYI"
      }
    },
    {
      "cell_type": "code",
      "source": [
        "list_data = ['Cherry', 'apple', 10, 9.9, True]\n",
        "print(list_data)"
      ],
      "metadata": {
        "colab": {
          "base_uri": "https://localhost:8080/"
        },
        "id": "m1JYuHVxUjTy",
        "outputId": "a0620ea7-59ab-4282-b253-aa0bcb8813ef"
      },
      "execution_count": 3,
      "outputs": [
        {
          "output_type": "stream",
          "name": "stdout",
          "text": [
            "['Cherry', 'apple', 10, 9.9, True]\n"
          ]
        }
      ]
    },
    {
      "cell_type": "code",
      "source": [
        "list_data[0]"
      ],
      "metadata": {
        "colab": {
          "base_uri": "https://localhost:8080/",
          "height": 36
        },
        "id": "9Z7jIXpSVDm0",
        "outputId": "a24d5d6a-3b5a-4625-ad1e-510ab406b61d"
      },
      "execution_count": 4,
      "outputs": [
        {
          "output_type": "execute_result",
          "data": {
            "text/plain": [
              "'Cherry'"
            ],
            "application/vnd.google.colaboratory.intrinsic+json": {
              "type": "string"
            }
          },
          "metadata": {},
          "execution_count": 4
        }
      ]
    },
    {
      "cell_type": "code",
      "source": [
        "#Negative Indexing\n",
        "list_data[-1]"
      ],
      "metadata": {
        "colab": {
          "base_uri": "https://localhost:8080/"
        },
        "id": "pUtXAYPuVkLJ",
        "outputId": "691f6b69-698a-4f89-c37f-239c3fa60c38"
      },
      "execution_count": 6,
      "outputs": [
        {
          "output_type": "execute_result",
          "data": {
            "text/plain": [
              "True"
            ]
          },
          "metadata": {},
          "execution_count": 6
        }
      ]
    },
    {
      "cell_type": "code",
      "source": [
        "#If we put index which is >= length of list, we get Index error\n",
        "list_data[10]"
      ],
      "metadata": {
        "colab": {
          "base_uri": "https://localhost:8080/",
          "height": 192
        },
        "id": "QHZABtroVG0O",
        "outputId": "ddfbeb2d-588b-4ff5-c8ad-b64959f7ae88"
      },
      "execution_count": 5,
      "outputs": [
        {
          "output_type": "error",
          "ename": "IndexError",
          "evalue": "ignored",
          "traceback": [
            "\u001b[0;31m---------------------------------------------------------------------------\u001b[0m",
            "\u001b[0;31mIndexError\u001b[0m                                Traceback (most recent call last)",
            "\u001b[0;32m<ipython-input-5-fe4d7637b895>\u001b[0m in \u001b[0;36m<cell line: 2>\u001b[0;34m()\u001b[0m\n\u001b[1;32m      1\u001b[0m \u001b[0;31m#If we put index which is >= length of list, we get error\u001b[0m\u001b[0;34m\u001b[0m\u001b[0;34m\u001b[0m\u001b[0m\n\u001b[0;32m----> 2\u001b[0;31m \u001b[0mlist_data\u001b[0m\u001b[0;34m[\u001b[0m\u001b[0;36m10\u001b[0m\u001b[0;34m]\u001b[0m\u001b[0;34m\u001b[0m\u001b[0;34m\u001b[0m\u001b[0m\n\u001b[0m",
            "\u001b[0;31mIndexError\u001b[0m: list index out of range"
          ]
        }
      ]
    },
    {
      "cell_type": "code",
      "source": [
        "# Altering data\n",
        "list_data[4] = False\n",
        "print(list_data)"
      ],
      "metadata": {
        "colab": {
          "base_uri": "https://localhost:8080/"
        },
        "id": "A_UZSL_AVsDi",
        "outputId": "0f7ba7be-3f4f-4af7-e43f-5a14cea145b2"
      },
      "execution_count": 7,
      "outputs": [
        {
          "output_type": "stream",
          "name": "stdout",
          "text": [
            "['Cherry', 'apple', 10, 9.9, False]\n"
          ]
        }
      ]
    },
    {
      "cell_type": "code",
      "source": [
        "# Adding data to the end of the list. append(<data>): adds a single element to the end of the list\n",
        "list_data.append(\"India\")\n",
        "print(list_data)"
      ],
      "metadata": {
        "colab": {
          "base_uri": "https://localhost:8080/"
        },
        "id": "bydfkh_SV1Gq",
        "outputId": "34c0f9dc-567a-4496-cdfd-8e8adc0db232"
      },
      "execution_count": 8,
      "outputs": [
        {
          "output_type": "stream",
          "name": "stdout",
          "text": [
            "['Cherry', 'apple', 10, 9.9, False, 'India']\n"
          ]
        }
      ]
    },
    {
      "cell_type": "code",
      "source": [
        "# Adding data to the end of the list. extend([<data1>, <data2>,...]): adds a elements to the end of the list.\n",
        "list_data.extend([1,2,3,4,5])\n",
        "print(list_data)"
      ],
      "metadata": {
        "colab": {
          "base_uri": "https://localhost:8080/"
        },
        "id": "G6gyo4R4WGf9",
        "outputId": "de93b7b6-620f-4872-dabf-dede3b8f1a6a"
      },
      "execution_count": 9,
      "outputs": [
        {
          "output_type": "stream",
          "name": "stdout",
          "text": [
            "['Cherry', 'apple', 10, 9.9, False, 'India', 1, 2, 3, 4, 5]\n"
          ]
        }
      ]
    },
    {
      "cell_type": "code",
      "source": [
        "# len() function is used to find out size of the list\n",
        "print(len(list_data))"
      ],
      "metadata": {
        "colab": {
          "base_uri": "https://localhost:8080/"
        },
        "id": "PWZfkJkTXAXs",
        "outputId": "96bf09f1-8127-4f7a-b9cd-3414c18e526e"
      },
      "execution_count": 10,
      "outputs": [
        {
          "output_type": "stream",
          "name": "stdout",
          "text": [
            "11\n"
          ]
        }
      ]
    },
    {
      "cell_type": "code",
      "source": [
        "# .split() method allows us to split a string based on some string and returns a list\n",
        "names = 'Alice, Raju, Tom, Harry'.split(', ')\n",
        "print(names)"
      ],
      "metadata": {
        "colab": {
          "base_uri": "https://localhost:8080/"
        },
        "id": "6jdw9DTpXoaA",
        "outputId": "80c14daf-f912-4600-86ca-fb67e6e8ac0a"
      },
      "execution_count": 1,
      "outputs": [
        {
          "output_type": "stream",
          "name": "stdout",
          "text": [
            "['Alice', 'Raju', 'Tom', 'Harry']\n"
          ]
        }
      ]
    },
    {
      "cell_type": "code",
      "source": [
        "# random.choice(<list_name>) return any one element from the list randomly\n",
        "import random\n",
        "\n",
        "random.choice(names)\n"
      ],
      "metadata": {
        "colab": {
          "base_uri": "https://localhost:8080/",
          "height": 36
        },
        "id": "MHsOO0X3XpsU",
        "outputId": "b4ba8cc7-fa96-4137-bc4e-cf1988c93e21"
      },
      "execution_count": 5,
      "outputs": [
        {
          "output_type": "execute_result",
          "data": {
            "text/plain": [
              "'Harry'"
            ],
            "application/vnd.google.colaboratory.intrinsic+json": {
              "type": "string"
            }
          },
          "metadata": {},
          "execution_count": 5
        }
      ]
    },
    {
      "cell_type": "code",
      "source": [
        "#Nested Lists\n",
        "\n",
        "matrix = [[1,2,3],[4,5,6],[7,8,9,0]]\n",
        "print(matrix[2][2])"
      ],
      "metadata": {
        "colab": {
          "base_uri": "https://localhost:8080/"
        },
        "id": "zZHGAN1OYVIj",
        "outputId": "588c756a-0b12-4b6e-9d3f-826931a589d4"
      },
      "execution_count": 6,
      "outputs": [
        {
          "output_type": "stream",
          "name": "stdout",
          "text": [
            "9\n"
          ]
        }
      ]
    },
    {
      "cell_type": "code",
      "source": [
        "#sum() can be used to add all elements in a numeric list\n",
        "sum([1,2,3,4,5])"
      ],
      "metadata": {
        "colab": {
          "base_uri": "https://localhost:8080/"
        },
        "id": "p71V2cNlWs7j",
        "outputId": "17a3c90a-ed7a-4cc6-8a58-8dea5b1eba12"
      },
      "execution_count": 3,
      "outputs": [
        {
          "output_type": "execute_result",
          "data": {
            "text/plain": [
              "15"
            ]
          },
          "metadata": {},
          "execution_count": 3
        }
      ]
    },
    {
      "cell_type": "markdown",
      "source": [
        "###Mini Project - **Rock, Paper, Scissors Game**\n",
        "\n"
      ],
      "metadata": {
        "id": "Xd9hkDWkarr_"
      }
    },
    {
      "cell_type": "code",
      "source": [
        "import random\n",
        "\n",
        "rock = '''\n",
        "    _______\n",
        "---'   ____)\n",
        "      (_____)\n",
        "      (_____)\n",
        "      (____)\n",
        "---.__(___)\n",
        "'''\n",
        "\n",
        "paper = '''\n",
        "    _______\n",
        "---'   ____)____\n",
        "          ______)\n",
        "          _______)\n",
        "         _______)\n",
        "---.__________)\n",
        "'''\n",
        "\n",
        "scissors = '''\n",
        "    _______\n",
        "---'   ____)____\n",
        "          ______)\n",
        "       __________)\n",
        "      (____)\n",
        "---.__(___)\n",
        "'''\n",
        "\n",
        "#Write your code below this line 👇\n",
        "\n",
        "print('Rock, Paper, Scissors Game')\n",
        "player_choice = int(input('What do you choose? Type 0 for Rock, 1 for Paper or 2 for Scissors: '))\n",
        "\n",
        "computer_choice = random.randint(0,2)\n",
        "\n",
        "if player_choice == 0:\n",
        "  print(rock)\n",
        "elif player_choice == 1:\n",
        "  print(paper)\n",
        "else:\n",
        "  print(scissors)\n",
        "\n",
        "print('Computer chose:')\n",
        "if computer_choice == 0:\n",
        "  print(rock)\n",
        "elif computer_choice == 1:\n",
        "  print(paper)\n",
        "else:\n",
        "  print(scissors)\n",
        "\n",
        "if player_choice == 0:\n",
        "  if computer_choice == 0:\n",
        "    print('Tie')\n",
        "  elif computer_choice == 1:\n",
        "    print('You Lose')\n",
        "  else:\n",
        "    print('You Win')\n",
        "elif player_choice == 1:\n",
        "  if computer_choice == 0:\n",
        "    print('You Win')\n",
        "  elif computer_choice == 1:\n",
        "    print('Tie')\n",
        "  else:\n",
        "    print('You Lose')\n",
        "else:\n",
        "  if computer_choice == 0:\n",
        "    print('You Lose')\n",
        "  elif computer_choice == 1:\n",
        "    print('You Win')\n",
        "  else:\n",
        "    print('Tie')"
      ],
      "metadata": {
        "colab": {
          "base_uri": "https://localhost:8080/"
        },
        "id": "bAchyUhJc0U6",
        "outputId": "ff13274b-5d84-4c88-e3e1-0fc027a988be"
      },
      "execution_count": 10,
      "outputs": [
        {
          "output_type": "stream",
          "name": "stdout",
          "text": [
            "Rock, Paper, Scissors Game\n",
            "What do you choose? Type 0 for Rock, 1 for Paper or 2 for Scissors: 0\n",
            "\n",
            "    _______\n",
            "---'   ____)\n",
            "      (_____)\n",
            "      (_____)\n",
            "      (____)\n",
            "---.__(___)\n",
            "\n",
            "Computer chose:\n",
            "\n",
            "    _______\n",
            "---'   ____)____\n",
            "          ______)\n",
            "       __________)\n",
            "      (____)\n",
            "---.__(___)\n",
            "\n",
            "You Win\n"
          ]
        }
      ]
    }
  ]
}