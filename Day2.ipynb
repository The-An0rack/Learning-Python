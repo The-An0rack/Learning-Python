{
  "nbformat": 4,
  "nbformat_minor": 0,
  "metadata": {
    "colab": {
      "provenance": [],
      "authorship_tag": "ABX9TyM/RO+wSRurEX4bZ6dCjSs3",
      "include_colab_link": true
    },
    "kernelspec": {
      "name": "python3",
      "display_name": "Python 3"
    },
    "language_info": {
      "name": "python"
    }
  },
  "cells": [
    {
      "cell_type": "markdown",
      "metadata": {
        "id": "view-in-github",
        "colab_type": "text"
      },
      "source": [
        "<a href=\"https://colab.research.google.com/github/The-An0rack/Learning-Python/blob/main/Day2.ipynb\" target=\"_parent\"><img src=\"https://colab.research.google.com/assets/colab-badge.svg\" alt=\"Open In Colab\"/></a>"
      ]
    },
    {
      "cell_type": "markdown",
      "source": [
        "## **Day 2: Understanding Data Types, Operations, Type Conversion and f-Strings**\n",
        "\n",
        "\n",
        "### **Primitive Data Types in Python**\n",
        "* Strings\n",
        "* Integers\n",
        "* Float\n",
        "* Boolean"
      ],
      "metadata": {
        "id": "8d7xDykePrNs"
      }
    },
    {
      "cell_type": "markdown",
      "source": [
        "### **Strings**\n",
        "#### **Subscripting in a string**\n",
        "By putting square brackets to a string, we can disect a string in order to take out a substring or individual characters"
      ],
      "metadata": {
        "id": "B49yo1uGQrQo"
      }
    },
    {
      "cell_type": "code",
      "execution_count": 6,
      "metadata": {
        "colab": {
          "base_uri": "https://localhost:8080/",
          "height": 36
        },
        "id": "JT4xxSwjPmr0",
        "outputId": "4abd797b-c755-4554-8969-9986a630b554"
      },
      "outputs": [
        {
          "output_type": "execute_result",
          "data": {
            "text/plain": [
              "'H'"
            ],
            "application/vnd.google.colaboratory.intrinsic+json": {
              "type": "string"
            }
          },
          "metadata": {},
          "execution_count": 6
        }
      ],
      "source": [
        "\"Hello\"[0]"
      ]
    },
    {
      "cell_type": "code",
      "source": [
        "\"Hello\"[0:3]"
      ],
      "metadata": {
        "colab": {
          "base_uri": "https://localhost:8080/",
          "height": 36
        },
        "id": "-z2Db1w3RlMj",
        "outputId": "201df201-bc15-4932-d02a-12b0a49ac33a"
      },
      "execution_count": 7,
      "outputs": [
        {
          "output_type": "execute_result",
          "data": {
            "text/plain": [
              "'Hel'"
            ],
            "application/vnd.google.colaboratory.intrinsic+json": {
              "type": "string"
            }
          },
          "metadata": {},
          "execution_count": 7
        }
      ]
    },
    {
      "cell_type": "markdown",
      "source": [
        "> '+' is used to concatinate 2 strings."
      ],
      "metadata": {
        "id": "sCVvv2vERwbJ"
      }
    },
    {
      "cell_type": "code",
      "source": [
        "'Hello' + 'World'"
      ],
      "metadata": {
        "colab": {
          "base_uri": "https://localhost:8080/",
          "height": 36
        },
        "id": "vr7OttsjR5Hz",
        "outputId": "1a4fc858-5689-413d-fed1-5d06d96ebb36"
      },
      "execution_count": 8,
      "outputs": [
        {
          "output_type": "execute_result",
          "data": {
            "text/plain": [
              "'HelloWorld'"
            ],
            "application/vnd.google.colaboratory.intrinsic+json": {
              "type": "string"
            }
          },
          "metadata": {},
          "execution_count": 8
        }
      ]
    },
    {
      "cell_type": "markdown",
      "source": [
        "### **Integers**\n",
        "They are whole numbers and can be defined by any of the following forms\n",
        "\n",
        "\n",
        "* 123456789  \n",
        "* 123_456_789\n",
        "\n"
      ],
      "metadata": {
        "id": "ol3WW-WFRqyb"
      }
    },
    {
      "cell_type": "markdown",
      "source": [
        "### **Float**\n",
        "They are numbers with decimals"
      ],
      "metadata": {
        "id": "_NeZVrfsSPXu"
      }
    },
    {
      "cell_type": "markdown",
      "source": [
        "###**Boolean**\n",
        "It can only have 2 values:\n",
        "* True\n",
        "* False"
      ],
      "metadata": {
        "id": "SbT_UOPvSUWU"
      }
    },
    {
      "cell_type": "markdown",
      "source": [
        "**type()** *function can be used to determine the type of data / variable.*"
      ],
      "metadata": {
        "id": "XRFIssXMTFgT"
      }
    },
    {
      "cell_type": "code",
      "source": [
        "type('Hello')"
      ],
      "metadata": {
        "colab": {
          "base_uri": "https://localhost:8080/"
        },
        "id": "aS54YxyCTRz9",
        "outputId": "ea1e7ba0-073b-417d-c298-eeaba4d2d7fb"
      },
      "execution_count": 10,
      "outputs": [
        {
          "output_type": "execute_result",
          "data": {
            "text/plain": [
              "str"
            ]
          },
          "metadata": {},
          "execution_count": 10
        }
      ]
    },
    {
      "cell_type": "code",
      "source": [
        "type(123)"
      ],
      "metadata": {
        "colab": {
          "base_uri": "https://localhost:8080/"
        },
        "id": "qfsy5_jPTPyB",
        "outputId": "6d15de89-7101-4da0-b902-cc2889e89907"
      },
      "execution_count": 9,
      "outputs": [
        {
          "output_type": "execute_result",
          "data": {
            "text/plain": [
              "int"
            ]
          },
          "metadata": {},
          "execution_count": 9
        }
      ]
    },
    {
      "cell_type": "code",
      "source": [
        "type(123.56)"
      ],
      "metadata": {
        "colab": {
          "base_uri": "https://localhost:8080/"
        },
        "id": "zynrx-agTV_b",
        "outputId": "9cbc5bc4-7bb5-4bfb-a258-918796063be6"
      },
      "execution_count": 11,
      "outputs": [
        {
          "output_type": "execute_result",
          "data": {
            "text/plain": [
              "float"
            ]
          },
          "metadata": {},
          "execution_count": 11
        }
      ]
    },
    {
      "cell_type": "code",
      "source": [
        "type(True)"
      ],
      "metadata": {
        "colab": {
          "base_uri": "https://localhost:8080/"
        },
        "id": "maBetMc7TZi4",
        "outputId": "7066a16b-a645-499f-e87c-46211744cfcb"
      },
      "execution_count": 12,
      "outputs": [
        {
          "output_type": "execute_result",
          "data": {
            "text/plain": [
              "bool"
            ]
          },
          "metadata": {},
          "execution_count": 12
        }
      ]
    },
    {
      "cell_type": "markdown",
      "source": [
        "##**Type Conversion / Type Casting**\n",
        "* `str()`: to convert a value to string data type.\n",
        "* `int()`: to convert a value to integer data type.\n",
        "* `float()`: to convert a value to a float data type.\n",
        "* `bool():`: to convert a value to boolean. If passed argument is empty returns false, else returns true."
      ],
      "metadata": {
        "id": "rZ96vla5Tdpw"
      }
    },
    {
      "cell_type": "markdown",
      "source": [
        "##**Mathematical Operators in Python**\n",
        "\n",
        "\n",
        "1.   Addition (+)\n",
        "2.   Subtraction (-)\n",
        "3.   Multiplication (*)\n",
        "4.   Division (/) : *Always gives a float result.* For Integer division use: //\n",
        "5.   Exponent (**)\n",
        "6.   Modular Division (%)\n",
        "\n",
        "### **Priority Order**\n",
        "* `()`\n",
        "* `**`\n",
        "* `*` and `/`\n",
        "* `+` and `-`\n",
        "\n"
      ],
      "metadata": {
        "id": "POCMWxjyVMv5"
      }
    },
    {
      "cell_type": "code",
      "source": [
        "12 + 13"
      ],
      "metadata": {
        "colab": {
          "base_uri": "https://localhost:8080/"
        },
        "id": "lwwPEAndVpEj",
        "outputId": "0244d7f6-c963-4461-c69f-499b2f26bc12"
      },
      "execution_count": 13,
      "outputs": [
        {
          "output_type": "execute_result",
          "data": {
            "text/plain": [
              "25"
            ]
          },
          "metadata": {},
          "execution_count": 13
        }
      ]
    },
    {
      "cell_type": "code",
      "source": [
        "12 - 13"
      ],
      "metadata": {
        "colab": {
          "base_uri": "https://localhost:8080/"
        },
        "id": "ExqcY0Y7VsSa",
        "outputId": "1fb64013-1481-46ae-afbf-106d621e1cb4"
      },
      "execution_count": 14,
      "outputs": [
        {
          "output_type": "execute_result",
          "data": {
            "text/plain": [
              "-1"
            ]
          },
          "metadata": {},
          "execution_count": 14
        }
      ]
    },
    {
      "cell_type": "code",
      "source": [
        "12 * 13"
      ],
      "metadata": {
        "colab": {
          "base_uri": "https://localhost:8080/"
        },
        "id": "kSLCNYagVyvE",
        "outputId": "fb7380f4-f3a9-41d0-efe4-8edbfbc41776"
      },
      "execution_count": 15,
      "outputs": [
        {
          "output_type": "execute_result",
          "data": {
            "text/plain": [
              "156"
            ]
          },
          "metadata": {},
          "execution_count": 15
        }
      ]
    },
    {
      "cell_type": "code",
      "source": [
        "12/4"
      ],
      "metadata": {
        "colab": {
          "base_uri": "https://localhost:8080/"
        },
        "id": "PeVMf262V2TM",
        "outputId": "5d29cd80-f3d8-4b8b-92a5-45fe1fdc278d"
      },
      "execution_count": 16,
      "outputs": [
        {
          "output_type": "execute_result",
          "data": {
            "text/plain": [
              "3.0"
            ]
          },
          "metadata": {},
          "execution_count": 16
        }
      ]
    },
    {
      "cell_type": "code",
      "source": [
        "5**2"
      ],
      "metadata": {
        "colab": {
          "base_uri": "https://localhost:8080/"
        },
        "id": "qCIRDxmDV5N5",
        "outputId": "ba41f966-0890-4fe0-917a-cf682516e7f1"
      },
      "execution_count": 17,
      "outputs": [
        {
          "output_type": "execute_result",
          "data": {
            "text/plain": [
              "25"
            ]
          },
          "metadata": {},
          "execution_count": 17
        }
      ]
    },
    {
      "cell_type": "code",
      "source": [
        "5%2"
      ],
      "metadata": {
        "colab": {
          "base_uri": "https://localhost:8080/"
        },
        "id": "QTQr7pcHV7Y9",
        "outputId": "9583f883-7e3c-42c9-8c71-20eea66c68a7"
      },
      "execution_count": 18,
      "outputs": [
        {
          "output_type": "execute_result",
          "data": {
            "text/plain": [
              "1"
            ]
          },
          "metadata": {},
          "execution_count": 18
        }
      ]
    },
    {
      "cell_type": "markdown",
      "source": [
        "###**Rounding Off in Python**\n",
        "Syntax: `round(<number>, precision)`"
      ],
      "metadata": {
        "id": "1SyueW9EZVb2"
      }
    },
    {
      "cell_type": "code",
      "source": [
        "8/3"
      ],
      "metadata": {
        "colab": {
          "base_uri": "https://localhost:8080/"
        },
        "id": "idaWhsaoZVEh",
        "outputId": "e2413196-f71a-43d2-e9ef-5d885549c406"
      },
      "execution_count": 19,
      "outputs": [
        {
          "output_type": "execute_result",
          "data": {
            "text/plain": [
              "2.6666666666666665"
            ]
          },
          "metadata": {},
          "execution_count": 19
        }
      ]
    },
    {
      "cell_type": "code",
      "source": [
        "round(8/3)"
      ],
      "metadata": {
        "colab": {
          "base_uri": "https://localhost:8080/"
        },
        "id": "acRc5XpeZvr1",
        "outputId": "39ac1384-7ec9-4765-bb07-843e25908577"
      },
      "execution_count": 20,
      "outputs": [
        {
          "output_type": "execute_result",
          "data": {
            "text/plain": [
              "3"
            ]
          },
          "metadata": {},
          "execution_count": 20
        }
      ]
    },
    {
      "cell_type": "code",
      "source": [
        "round(8/3,2)"
      ],
      "metadata": {
        "colab": {
          "base_uri": "https://localhost:8080/"
        },
        "id": "g5_nHOb7ZzUF",
        "outputId": "7f0905a1-24fc-4dcc-9487-1cf727435bdd"
      },
      "execution_count": 21,
      "outputs": [
        {
          "output_type": "execute_result",
          "data": {
            "text/plain": [
              "2.67"
            ]
          },
          "metadata": {},
          "execution_count": 21
        }
      ]
    },
    {
      "cell_type": "markdown",
      "source": [
        "###**Assignment operator shorthands**\n",
        "1. **+=**: eg. `value += 12` can be elaborated as `value = value + 12`\n",
        "2. **-=**: eg. `value -= 12` can be elaborated as `value = value - 12`\n",
        "3. ***=**: eg. `value *= 12` can be elaborated as `value = value * 12`\n",
        "4. **/=**: eg. `value /= 12` can be elaborated as `value = value / 12`"
      ],
      "metadata": {
        "id": "c4Icol82aUM5"
      }
    },
    {
      "cell_type": "markdown",
      "source": [
        "###**Fstring in Python**\n",
        "\n"
      ],
      "metadata": {
        "id": "RjHbzRKia7F0"
      }
    },
    {
      "cell_type": "code",
      "source": [
        "name = \"Jhon Doe\"\n",
        "age = 11\n",
        "print(f'Hello I {name} am {age} years old.')"
      ],
      "metadata": {
        "colab": {
          "base_uri": "https://localhost:8080/"
        },
        "id": "EvQUL1W7aTpW",
        "outputId": "2ac63038-b458-4d0b-f8d3-36765964b3a3"
      },
      "execution_count": 22,
      "outputs": [
        {
          "output_type": "stream",
          "name": "stdout",
          "text": [
            "Hello I Jhon Doe am 11 years old.\n"
          ]
        }
      ]
    },
    {
      "cell_type": "markdown",
      "source": [
        "###Mini Project - **Tip Calculator**"
      ],
      "metadata": {
        "id": "R1vka-_yd0aF"
      }
    },
    {
      "cell_type": "code",
      "source": [
        "print('Welcome to the tip calculator.')\n",
        "total_bill = float(input('What was the total bill? $'))\n",
        "tip_perc = int(input('What percentage tip would you like to give? 10, 12, or 15? '))\n",
        "num_friends = int(input('How many people to split the bill? '))\n",
        "per_person_cost = round(((tip_perc/100)*total_bill + total_bill)/num_friends, 2)\n",
        "print(f'Each person should pay: ${per_person_cost}')"
      ],
      "metadata": {
        "colab": {
          "base_uri": "https://localhost:8080/"
        },
        "id": "GZ8rH6YQd6ZB",
        "outputId": "acdfd7c8-64e5-4299-8137-cb2e8c286ac2"
      },
      "execution_count": 23,
      "outputs": [
        {
          "output_type": "stream",
          "name": "stdout",
          "text": [
            "Welcome to the tip calculator.\n",
            "What was the total bill? $124.56\n",
            "What percentage tip would you like to give? 10, 12, or 15? 12\n",
            "How many people to split the bill? 7\n",
            "Each person should pay: $19.93\n"
          ]
        }
      ]
    }
  ]
}