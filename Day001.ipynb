{
  "nbformat": 4,
  "nbformat_minor": 0,
  "metadata": {
    "colab": {
      "provenance": []
    },
    "kernelspec": {
      "name": "python3",
      "display_name": "Python 3"
    },
    "language_info": {
      "name": "python"
    }
  },
  "cells": [
    {
      "cell_type": "markdown",
      "source": [
        "#**DAY 1: Input / Output and working with variables**\n",
        "\n",
        "##**Printing to the Console**\n",
        "\n"
      ],
      "metadata": {
        "id": "MzmDhR8GRtGx"
      }
    },
    {
      "cell_type": "code",
      "execution_count": 1,
      "metadata": {
        "colab": {
          "base_uri": "https://localhost:8080/"
        },
        "id": "UYy7DoCnRlkN",
        "outputId": "9f57edb0-89f0-4301-dbd8-932e02e8a535"
      },
      "outputs": [
        {
          "output_type": "stream",
          "name": "stdout",
          "text": [
            "Hello World!!!\n"
          ]
        }
      ],
      "source": [
        "print(\"Hello World!!!\")"
      ]
    },
    {
      "cell_type": "markdown",
      "source": [
        "*   Anything enclosed between \" \" or ' ' in python is known as a string.\n",
        "*   Closing the quotes at the end of the string is important.\n",
        "*   If we wish to have quotes in the console, then we need to enclose string by other quote type, i.e. Double quotes on outsite and single quotes on the inside and vice versa.\n",
        "> `eg. print(\"print('Hello World!!!')\")`\n",
        "\n",
        "*   We can also use escape sequence\n",
        "> `print(\"String Concatenation is done with the \\\"+\\\" sign.\")`\n",
        "\n",
        "*   We can also use some special characters like:\n",
        "> \\n - new line\n",
        "\n",
        "*   The symbol + can be used to concatinate\n",
        ">` print('Hello' + 'World')`\n",
        "\n",
        "\n"
      ],
      "metadata": {
        "id": "fxF5elFWSJRz"
      }
    },
    {
      "cell_type": "code",
      "source": [
        "print(\"String Concatenation is done with the \\\"+\\\" sign.\")\n",
        "\n",
        "print('Hello' + 'World')"
      ],
      "metadata": {
        "colab": {
          "base_uri": "https://localhost:8080/"
        },
        "id": "QN-_Nhc3VsDD",
        "outputId": "619a4d05-98d8-48a4-9aa5-da9abcdcedfb"
      },
      "execution_count": 3,
      "outputs": [
        {
          "output_type": "stream",
          "name": "stdout",
          "text": [
            "String Concatenation is done with the \"+\" sign.\n",
            "HelloWorld\n"
          ]
        }
      ]
    },
    {
      "cell_type": "markdown",
      "source": [
        "*Only String must be placed inside the print function if it is concatinated with a string. Otherwise use , (comma) to sepetate values.*"
      ],
      "metadata": {
        "id": "BKmH8HCxb4q8"
      }
    },
    {
      "cell_type": "code",
      "source": [
        "print('Nine' + 9)"
      ],
      "metadata": {
        "colab": {
          "base_uri": "https://localhost:8080/",
          "height": 175
        },
        "id": "-BroS-5ScEIo",
        "outputId": "a625d688-f6e6-4d18-de0e-54fb41a09964"
      },
      "execution_count": 11,
      "outputs": [
        {
          "output_type": "error",
          "ename": "TypeError",
          "evalue": "ignored",
          "traceback": [
            "\u001b[0;31m---------------------------------------------------------------------------\u001b[0m",
            "\u001b[0;31mTypeError\u001b[0m                                 Traceback (most recent call last)",
            "\u001b[0;32m<ipython-input-11-9765fe847e56>\u001b[0m in \u001b[0;36m<cell line: 1>\u001b[0;34m()\u001b[0m\n\u001b[0;32m----> 1\u001b[0;31m \u001b[0mprint\u001b[0m\u001b[0;34m(\u001b[0m\u001b[0;34m'Nine'\u001b[0m \u001b[0;34m+\u001b[0m \u001b[0;36m9\u001b[0m\u001b[0;34m)\u001b[0m\u001b[0;34m\u001b[0m\u001b[0;34m\u001b[0m\u001b[0m\n\u001b[0m",
            "\u001b[0;31mTypeError\u001b[0m: can only concatenate str (not \"int\") to str"
          ]
        }
      ]
    },
    {
      "cell_type": "code",
      "source": [
        "print('Nine', 9)"
      ],
      "metadata": {
        "colab": {
          "base_uri": "https://localhost:8080/"
        },
        "id": "UP2HrCcKcUmK",
        "outputId": "55bcf7ad-73fa-4ef1-f859-33da9e9b1a14"
      },
      "execution_count": 12,
      "outputs": [
        {
          "output_type": "stream",
          "name": "stdout",
          "text": [
            "Nine 9\n"
          ]
        }
      ]
    },
    {
      "cell_type": "markdown",
      "source": [
        "##**Taking Input**\n",
        "* Input is always taken as a string in Python, ie. input() function returns a data type of string.\n",
        "> Syntax: `input(<Prompt String>)`"
      ],
      "metadata": {
        "id": "GahcofK3YEQH"
      }
    },
    {
      "cell_type": "code",
      "source": [
        "input(\"What is your favourite movie?\")"
      ],
      "metadata": {
        "colab": {
          "base_uri": "https://localhost:8080/",
          "height": 53
        },
        "id": "Y_8uI7ydYDzQ",
        "outputId": "9aec7d71-7892-4a61-e042-86291ce395e8"
      },
      "execution_count": 4,
      "outputs": [
        {
          "name": "stdout",
          "output_type": "stream",
          "text": [
            "What is your favourite movie?Ready Player One\n"
          ]
        },
        {
          "output_type": "execute_result",
          "data": {
            "text/plain": [
              "'Ready Player One'"
            ],
            "application/vnd.google.colaboratory.intrinsic+json": {
              "type": "string"
            }
          },
          "metadata": {},
          "execution_count": 4
        }
      ]
    },
    {
      "cell_type": "code",
      "source": [
        "print('Hey! ' + input('What is your favourite movie?') + ' is an amazing movie!!!')"
      ],
      "metadata": {
        "colab": {
          "base_uri": "https://localhost:8080/"
        },
        "id": "NekEeDB1ZE_Y",
        "outputId": "274e9639-cd76-4916-bc2a-867f6af8cf6e"
      },
      "execution_count": 6,
      "outputs": [
        {
          "output_type": "stream",
          "name": "stdout",
          "text": [
            "What is your favourite movie?Ready Player One\n",
            "Hey! Ready Player One is an amazing movie!!!\n"
          ]
        }
      ]
    },
    {
      "cell_type": "markdown",
      "source": [
        "## **Comments**\n",
        "\n",
        "* Python code can be commented using # symbol\n",
        "> `# This is a comment`\n",
        "* Comments are ignored by the computer and are for developer's personal reference."
      ],
      "metadata": {
        "id": "nrla-5GkZmhD"
      }
    },
    {
      "cell_type": "code",
      "source": [
        "# len(<String>) function is used to get length of string in python\n",
        "print(len(\"India\"))"
      ],
      "metadata": {
        "colab": {
          "base_uri": "https://localhost:8080/"
        },
        "id": "zKLAR11mZ33N",
        "outputId": "e03d4dff-7a7a-4f0d-944c-04da7872e215"
      },
      "execution_count": 8,
      "outputs": [
        {
          "output_type": "stream",
          "name": "stdout",
          "text": [
            "5\n"
          ]
        }
      ]
    },
    {
      "cell_type": "markdown",
      "source": [
        "##**Variables**\n",
        "Variables are used to store data that can be easily referenced at a later stage in the program.\n",
        "\n",
        "* Variable are case sensitive and cannot be keywords\n",
        "* Cannot start with a number, but can contain numbers at other places.\n",
        "* In Python variable names are smallcase seperated by _ (underscore).\n",
        "* Values stored in a variable can also be changed by reassigning a new value to the variable."
      ],
      "metadata": {
        "id": "6tHzgrrna0M9"
      }
    },
    {
      "cell_type": "code",
      "source": [
        "name = input(\"What is your name? \")\n",
        "print('Hello ' + name)"
      ],
      "metadata": {
        "colab": {
          "base_uri": "https://localhost:8080/"
        },
        "id": "76uKHTuCbexj",
        "outputId": "749d8e9a-cb5a-4beb-fb94-d6b80dff3a27"
      },
      "execution_count": 9,
      "outputs": [
        {
          "output_type": "stream",
          "name": "stdout",
          "text": [
            "What is your name?Dewashish\n",
            "Hello Dewashish\n"
          ]
        }
      ]
    },
    {
      "cell_type": "markdown",
      "source": [
        "###Mini Project: **Band Name Generator**"
      ],
      "metadata": {
        "id": "kOtdVx-9dsXK"
      }
    },
    {
      "cell_type": "code",
      "source": [
        "print(\"Greetings!!! Welcome to the band name generator\")\n",
        "city_name = input(\"In which city did you grow up in?\")\n",
        "pet_name = input(\"What is the name of your pet?\")\n",
        "print(\"Your band name could be \" + city_name +\" \"+pet_name)"
      ],
      "metadata": {
        "colab": {
          "base_uri": "https://localhost:8080/"
        },
        "id": "_wXiIEtYd3Ac",
        "outputId": "391c2d3a-310f-4186-e9fc-d13fe07de6b4"
      },
      "execution_count": 15,
      "outputs": [
        {
          "output_type": "stream",
          "name": "stdout",
          "text": [
            "Greetings!!! Welcome to the band name generator\n",
            "In which city did you grow up in?Pithoragarh\n",
            "What is the name of your pet?Dobby\n",
            "Your band name could be Pithoragarh Dobby\n"
          ]
        }
      ]
    }
  ]
}